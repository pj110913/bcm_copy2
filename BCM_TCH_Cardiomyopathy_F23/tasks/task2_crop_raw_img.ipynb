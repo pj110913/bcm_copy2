{
 "cells": [
  {
   "cell_type": "markdown",
   "metadata": {},
   "source": [
    "<h1 style=\"text-align: center;\">Pre-Process 1: Crop Raw Image</h1>"
   ]
  },
  {
   "cell_type": "code",
   "execution_count": 12,
   "metadata": {},
   "outputs": [],
   "source": [
    "import os\n",
    "import sys\n",
    "import numpy as np\n",
    "from matplotlib import pyplot as plt\n",
    "from PIL import Image\n",
    "from scipy.interpolate import interp1d\n",
    "\n",
    "sys.path.append(os.path.join(os.getcwd(), '..'))\n",
    "from cardio_modules.ImageTypes import (\n",
    "    DOPPLER_SPECTROGRAM,\n",
    "    STRAIN_MAPPING,\n",
    "    DOPPLER_SPEC_PULSE_SIZE,\n",
    "    DOPPLER_SPEC_ECG_SIZE,\n",
    "    STRAIN_MAPPING_PULSE_SIZE,\n",
    "    STRAIN_MAPPING_ECG_SIZE\n",
    ")\n",
    "from cardio_modules.PreProcess import PreProcessing"
   ]
  },
  {
   "cell_type": "code",
   "execution_count": 13,
   "metadata": {},
   "outputs": [
    {
     "data": {
      "text/plain": [
       "['mv', 'pulmvein', 'trjet', 'tdilat', 'tdimed']"
      ]
     },
     "execution_count": 13,
     "metadata": {},
     "output_type": "execute_result"
    }
   ],
   "source": [
    "DOPPLER_SPECTROGRAM"
   ]
  },
  {
   "cell_type": "code",
   "execution_count": 14,
   "metadata": {},
   "outputs": [
    {
     "data": {
      "text/plain": [
       "'/Users/niksun/Desktop/BCM_TCH_Cardiomyopathy_F23/tasks'"
      ]
     },
     "execution_count": 14,
     "metadata": {},
     "output_type": "execute_result"
    }
   ],
   "source": [
    "pwd"
   ]
  },
  {
   "cell_type": "code",
   "execution_count": 21,
   "metadata": {},
   "outputs": [],
   "source": [
    "GLOBAL_PATH = '/Users/niksun/Desktop/BCM_TCH_Cardiomyopathy_F23'\n",
    "RAW_DATA_PATH = os.path.join(GLOBAL_PATH, 'raw_data')\n",
    "RAW_IMAGE_PATH = os.path.join(GLOBAL_PATH, 'raw_data', 'D2K - no DICOM')\n",
    "OUTPUT_PATH = os.path.join(GLOBAL_PATH, 'output')\n",
    "PROCESSED_DATA_PATH = os.path.join(GLOBAL_PATH, 'processed_data')"
   ]
  },
  {
   "cell_type": "code",
   "execution_count": 16,
   "metadata": {},
   "outputs": [
    {
     "name": "stdout",
     "output_type": "stream",
     "text": [
      "['DDCM-001' 'DDCM-002' 'DDCM-003' 'DDCM-004' 'DDCM-005' 'DDCM-006'\n",
      " 'DDCM-007' 'DDCM-008' 'DDCM-009' 'DDCM-010' 'DDCM-011' 'DDCM-012'\n",
      " 'DDCM-013' 'DDCM-014' 'DDCM-015' 'DDCM-016' 'DDCM-017' 'DDCM-018'\n",
      " 'DDCM-019' 'DDCM-020' 'DDCM-021' 'DDCM-022' 'DDCM-023' 'DDCM-024'\n",
      " 'DDCM-025' 'DDCM-026' 'DDCM-027' 'DDCM-028' 'DDCM-029' 'DDCM-030'\n",
      " 'DDCM-031' 'DDCM-032' 'DDCM-034' 'DDCM-035' 'DDCM-036' 'DDCM-037'\n",
      " 'DDCM-038' 'DDCM-052' 'DDCM-053' 'DDCM-054' 'DDCM-055' 'DDCM-056'\n",
      " 'DDCM-057' 'DDCM-058' 'DDCM-059' 'DDCM-060' 'DDCM-061' 'DDCM-062'\n",
      " 'DDCM-063' 'DDCM-064' 'DDCM-065' 'DDCM-066' 'DDCM-067' 'DDCM-068'\n",
      " 'DDCM-069' 'DDCM-070' 'DDCM-075' 'DDCM-076' 'DDCM-077' 'DDCM-078'\n",
      " 'DDCM-079' 'DDCM-082' 'DDCM-083' 'DDCM-085' 'DDCM-086' 'DDCM-087'\n",
      " 'DDCM-088' 'DDCM-089' 'DDCM-090' 'DDCM-094' 'DDCM-096' 'DDCM-100'\n",
      " 'DDCM-101' 'DDCM-102' 'DDCM-104' 'DDCM-105' 'DDCM-107' 'DDCM-108'\n",
      " 'DDCM-109' 'DDCM-110' 'DDCM-112' 'DDCM-113' 'DDCM-114' 'DDCM-116'\n",
      " 'DDCM-118' 'DDCM-119']\n",
      "86\n"
     ]
    }
   ],
   "source": [
    "patient_ids = os.listdir(RAW_IMAGE_PATH)\n",
    "patient_ids = sorted(patient_id for patient_id in patient_ids if patient_id.startswith('DDCM-'))\n",
    "print(np.array(patient_ids))\n",
    "print(len(patient_ids))"
   ]
  },
  {
   "cell_type": "code",
   "execution_count": 17,
   "metadata": {},
   "outputs": [],
   "source": [
    "PreProcessing = PreProcessing()"
   ]
  },
  {
   "cell_type": "code",
   "execution_count": 18,
   "metadata": {},
   "outputs": [
    {
     "name": "stdout",
     "output_type": "stream",
     "text": [
      "86\n",
      "{'bullet': <PIL.JpegImagePlugin.JpegImageFile image mode=RGB size=1016x708 at 0x108EE7DF0>, 'tdilat': <PIL.JpegImagePlugin.JpegImageFile image mode=RGB size=1016x708 at 0x108EE7FA0>, 'mv': <PIL.JpegImagePlugin.JpegImageFile image mode=RGB size=1016x708 at 0x12F8554E0>, 'trjet': <PIL.JpegImagePlugin.JpegImageFile image mode=RGB size=1016x708 at 0x12F855E70>, 'lasa2': <PIL.JpegImagePlugin.JpegImageFile image mode=RGB size=1016x708 at 0x108F1C880>, 'pulmvein': <PIL.JpegImagePlugin.JpegImageFile image mode=RGB size=1016x708 at 0x108F1D180>, 'lasa4': <PIL.JpegImagePlugin.JpegImageFile image mode=RGB size=1016x708 at 0x12EF3D420>, 'tdimed': <PIL.JpegImagePlugin.JpegImageFile image mode=RGB size=1016x708 at 0x12EA93FA0>}\n"
     ]
    }
   ],
   "source": [
    "# get image data for all patients\n",
    "all_patient_data = {}\n",
    "\n",
    "for patient_id in patient_ids:\n",
    "    patient_data = PreProcessing.get_patient_data(RAW_IMAGE_PATH, patient_id)\n",
    "    all_patient_data[patient_id] = patient_data\n",
    "\n",
    "print(len(all_patient_data))\n",
    "print(all_patient_data['DDCM-001'])"
   ]
  },
  {
   "cell_type": "code",
   "execution_count": 19,
   "metadata": {},
   "outputs": [
    {
     "name": "stdout",
     "output_type": "stream",
     "text": [
      "86\n",
      "{'tdilat_pulse': <PIL.Image.Image image mode=RGB size=861x450 at 0x12F8DCB20>, 'tdilat_ecg': <PIL.Image.Image image mode=RGB size=861x108 at 0x12F887D30>, 'mv_pulse': <PIL.Image.Image image mode=RGB size=861x450 at 0x12F89D3F0>, 'mv_ecg': <PIL.Image.Image image mode=RGB size=861x108 at 0x12F89EF20>, 'trjet_pulse': <PIL.Image.Image image mode=RGB size=861x450 at 0x12F89DEA0>, 'trjet_ecg': <PIL.Image.Image image mode=RGB size=861x108 at 0x12EA90190>, 'lasa2_pulse': <PIL.Image.Image image mode=RGB size=612x564 at 0x12F89E410>, 'lasa2_ecg': <PIL.Image.Image image mode=RGB size=640x80 at 0x108EE7FD0>, 'pulmvein_pulse': <PIL.Image.Image image mode=RGB size=861x450 at 0x12EA90160>, 'pulmvein_ecg': <PIL.Image.Image image mode=RGB size=861x108 at 0x108EE7F70>, 'lasa4_pulse': <PIL.Image.Image image mode=RGB size=612x564 at 0x12F90F850>, 'lasa4_ecg': <PIL.Image.Image image mode=RGB size=640x80 at 0x12F90FA30>, 'tdimed_pulse': <PIL.Image.Image image mode=RGB size=861x450 at 0x12F90FAC0>, 'tdimed_ecg': <PIL.Image.Image image mode=RGB size=861x108 at 0x12F90E1D0>}\n"
     ]
    }
   ],
   "source": [
    "# crop image\n",
    "all_patient_data_cropped = {}\n",
    "for patient_id, patient_data in all_patient_data.items():\n",
    "    patient_data_cropped = {}\n",
    "    for image_name, image_value in patient_data.items():\n",
    "        if image_name in DOPPLER_SPECTROGRAM:\n",
    "            spec_pulse_part = PreProcessing.crop_image(image_value, DOPPLER_SPEC_PULSE_SIZE)\n",
    "            spec_ecg_part = PreProcessing.crop_image(image_value, DOPPLER_SPEC_ECG_SIZE)\n",
    "            patient_data_cropped[image_name + '_pulse'] = spec_pulse_part\n",
    "            patient_data_cropped[image_name + '_ecg'] = spec_ecg_part\n",
    "        elif image_name in STRAIN_MAPPING:\n",
    "            strain_pulse_part = PreProcessing.crop_image(image_value, STRAIN_MAPPING_PULSE_SIZE)\n",
    "            strain_ecg_part = PreProcessing.crop_image(image_value, STRAIN_MAPPING_ECG_SIZE)\n",
    "            patient_data_cropped[image_name + '_pulse'] = strain_pulse_part\n",
    "            patient_data_cropped[image_name + '_ecg'] = strain_ecg_part\n",
    "        else:\n",
    "            # when bullet, do we need to use it?\n",
    "            pass\n",
    "    all_patient_data_cropped[patient_id] = patient_data_cropped\n",
    "\n",
    "print(len(all_patient_data_cropped))\n",
    "print(all_patient_data_cropped['DDCM-001'])\n"
   ]
  },
  {
   "cell_type": "code",
   "execution_count": 23,
   "metadata": {},
   "outputs": [],
   "source": [
    "for patient_id, patient_data in all_patient_data_cropped.items():\n",
    "    for image_name, image_value in patient_data.items():\n",
    "        image_path = os.path.join(PROCESSED_DATA_PATH, patient_id, image_name + '.jpg')\n",
    "        os.makedirs(os.path.dirname(image_path), exist_ok=True)\n",
    "        image_value.save(image_path)\n"
   ]
  },
  {
   "cell_type": "code",
   "execution_count": null,
   "metadata": {},
   "outputs": [],
   "source": []
  }
 ],
 "metadata": {
  "kernelspec": {
   "display_name": "Python 3",
   "language": "python",
   "name": "python3"
  },
  "language_info": {
   "codemirror_mode": {
    "name": "ipython",
    "version": 3
   },
   "file_extension": ".py",
   "mimetype": "text/x-python",
   "name": "python",
   "nbconvert_exporter": "python",
   "pygments_lexer": "ipython3",
   "version": "3.10.10"
  },
  "orig_nbformat": 4
 },
 "nbformat": 4,
 "nbformat_minor": 2
}
