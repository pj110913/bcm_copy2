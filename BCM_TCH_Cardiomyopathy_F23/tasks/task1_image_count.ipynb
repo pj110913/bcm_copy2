{
  "cells": [
    {
      "cell_type": "markdown",
      "id": "4ba74e83",
      "metadata": {
        "id": "4ba74e83"
      },
      "source": [
        "<h1 style=\"text-align: center;\">Count Image Types</h1>\n",
        "\n",
        "By counting images, we discover several issues:\n",
        "- 86/120 patients with images\n",
        "- inconsistent image names for lasa and vstrain"
      ]
    },
    {
      "cell_type": "code",
      "execution_count": 2,
      "id": "8eaf9b40",
      "metadata": {
        "id": "8eaf9b40"
      },
      "outputs": [],
      "source": [
        "import os\n",
        "import pandas as pd"
      ]
    },
    {
      "cell_type": "code",
      "execution_count": 20,
      "id": "6b725b62",
      "metadata": {},
      "outputs": [],
      "source": [
        "GLOBAL_PATH = '/Users/niksun/Desktop/BCM_TCH_Cardiomyopathy_F23'\n",
        "RAW_DATA_PATH = os.path.join(GLOBAL_PATH, 'raw_data')\n",
        "RAW_IMAGE_PATH = os.path.join(GLOBAL_PATH, 'raw_data', 'D2K - no DICOM')\n",
        "OUTPUT_PATH = os.path.join(GLOBAL_PATH, 'output')"
      ]
    },
    {
      "cell_type": "markdown",
      "id": "58dee321",
      "metadata": {},
      "source": [
        "## Part 1: Detailed Count and Grouped Count"
      ]
    },
    {
      "cell_type": "code",
      "execution_count": 21,
      "id": "983647ae",
      "metadata": {
        "id": "983647ae"
      },
      "outputs": [
        {
          "data": {
            "text/html": [
              "<div>\n",
              "<style scoped>\n",
              "    .dataframe tbody tr th:only-of-type {\n",
              "        vertical-align: middle;\n",
              "    }\n",
              "\n",
              "    .dataframe tbody tr th {\n",
              "        vertical-align: top;\n",
              "    }\n",
              "\n",
              "    .dataframe thead th {\n",
              "        text-align: right;\n",
              "    }\n",
              "</style>\n",
              "<table border=\"1\" class=\"dataframe\">\n",
              "  <thead>\n",
              "    <tr style=\"text-align: right;\">\n",
              "      <th></th>\n",
              "      <th>Study Key</th>\n",
              "      <th>Diagnosis</th>\n",
              "    </tr>\n",
              "  </thead>\n",
              "  <tbody>\n",
              "    <tr>\n",
              "      <th>0</th>\n",
              "      <td>DDCM-001</td>\n",
              "      <td>HCM</td>\n",
              "    </tr>\n",
              "    <tr>\n",
              "      <th>1</th>\n",
              "      <td>DDCM-002</td>\n",
              "      <td>HCM</td>\n",
              "    </tr>\n",
              "    <tr>\n",
              "      <th>2</th>\n",
              "      <td>DDCM-003</td>\n",
              "      <td>HCM</td>\n",
              "    </tr>\n",
              "    <tr>\n",
              "      <th>3</th>\n",
              "      <td>DDCM-004</td>\n",
              "      <td>HCM</td>\n",
              "    </tr>\n",
              "    <tr>\n",
              "      <th>4</th>\n",
              "      <td>DDCM-005</td>\n",
              "      <td>HCM</td>\n",
              "    </tr>\n",
              "  </tbody>\n",
              "</table>\n",
              "</div>"
            ],
            "text/plain": [
              "  Study Key Diagnosis\n",
              "0  DDCM-001       HCM\n",
              "1  DDCM-002       HCM\n",
              "2  DDCM-003       HCM\n",
              "3  DDCM-004       HCM\n",
              "4  DDCM-005       HCM"
            ]
          },
          "execution_count": 21,
          "metadata": {},
          "output_type": "execute_result"
        }
      ],
      "source": [
        "# Study Key is patien id, Diagnosis is patient diagnosis result\n",
        "df = pd.read_csv(os.path.join(RAW_DATA_PATH, 'd2k_key.csv'), usecols=['Study Key', 'Diagnosis'])\n",
        "df.head()"
      ]
    },
    {
      "cell_type": "code",
      "execution_count": 22,
      "id": "b2d765a2",
      "metadata": {},
      "outputs": [
        {
          "name": "stdout",
          "output_type": "stream",
          "text": [
            "16\n",
            "{'lasa2c.jpg', 'vstrain2c.jpg', 'vstrainap2.jpg', 'lasap4.jpg', 'vstrain4c.jpg', 'tdimed.jpg', 'vstraina4c.jpg', 'trjet.jpg', 'pulmvein.jpg', 'lasa4c.jpg', 'vstrainap4.jpg', 'mv.jpg', 'bullet.jpg', 'tdilat.jpg', 'vstrainap3.jpg', 'vstraina2c.jpg'}\n"
          ]
        }
      ],
      "source": [
        "# get all image names\n",
        "def get_distinct_image_names(file_dir):\n",
        "    image_names = set()\n",
        "    for file_name in os.listdir(file_dir):\n",
        "        if os.path.isdir(os.path.join(file_dir, file_name)):\n",
        "            image_names.update(get_distinct_image_names(os.path.join(file_dir, file_name)))\n",
        "        else:\n",
        "            if file_name.lower().endswith('.jpg'):\n",
        "                image_names.add(file_name)\n",
        "\n",
        "    return image_names\n",
        "\n",
        "image_names = get_distinct_image_names(RAW_IMAGE_PATH)\n",
        "print(len(image_names))\n",
        "print(image_names)"
      ]
    },
    {
      "cell_type": "code",
      "execution_count": 23,
      "id": "f4fc8cd4",
      "metadata": {
        "id": "f4fc8cd4"
      },
      "outputs": [
        {
          "data": {
            "text/html": [
              "<div>\n",
              "<style scoped>\n",
              "    .dataframe tbody tr th:only-of-type {\n",
              "        vertical-align: middle;\n",
              "    }\n",
              "\n",
              "    .dataframe tbody tr th {\n",
              "        vertical-align: top;\n",
              "    }\n",
              "\n",
              "    .dataframe thead th {\n",
              "        text-align: right;\n",
              "    }\n",
              "</style>\n",
              "<table border=\"1\" class=\"dataframe\">\n",
              "  <thead>\n",
              "    <tr style=\"text-align: right;\">\n",
              "      <th></th>\n",
              "      <th>Study Key</th>\n",
              "      <th>Diagnosis</th>\n",
              "      <th>bullet</th>\n",
              "      <th>lasa2c</th>\n",
              "      <th>lasa4c</th>\n",
              "      <th>lasap4</th>\n",
              "      <th>mv</th>\n",
              "      <th>pulmvein</th>\n",
              "      <th>tdilat</th>\n",
              "      <th>tdimed</th>\n",
              "      <th>trjet</th>\n",
              "      <th>vstraina2c</th>\n",
              "      <th>vstraina4c</th>\n",
              "      <th>vstrainap2</th>\n",
              "      <th>vstrainap3</th>\n",
              "      <th>vstrainap4</th>\n",
              "      <th>vstrain2c</th>\n",
              "      <th>vstrain4c</th>\n",
              "      <th>total</th>\n",
              "    </tr>\n",
              "  </thead>\n",
              "  <tbody>\n",
              "    <tr>\n",
              "      <th>115</th>\n",
              "      <td>DDCM-116</td>\n",
              "      <td>SVLV</td>\n",
              "      <td>0</td>\n",
              "      <td>0</td>\n",
              "      <td>0</td>\n",
              "      <td>0</td>\n",
              "      <td>0</td>\n",
              "      <td>0</td>\n",
              "      <td>0</td>\n",
              "      <td>0</td>\n",
              "      <td>0</td>\n",
              "      <td>0</td>\n",
              "      <td>0</td>\n",
              "      <td>0</td>\n",
              "      <td>0</td>\n",
              "      <td>0</td>\n",
              "      <td>0</td>\n",
              "      <td>0</td>\n",
              "      <td>0</td>\n",
              "    </tr>\n",
              "    <tr>\n",
              "      <th>116</th>\n",
              "      <td>DDCM-117</td>\n",
              "      <td>SVLV</td>\n",
              "      <td>0</td>\n",
              "      <td>0</td>\n",
              "      <td>0</td>\n",
              "      <td>0</td>\n",
              "      <td>0</td>\n",
              "      <td>0</td>\n",
              "      <td>0</td>\n",
              "      <td>0</td>\n",
              "      <td>0</td>\n",
              "      <td>0</td>\n",
              "      <td>0</td>\n",
              "      <td>0</td>\n",
              "      <td>0</td>\n",
              "      <td>0</td>\n",
              "      <td>0</td>\n",
              "      <td>0</td>\n",
              "      <td>0</td>\n",
              "    </tr>\n",
              "    <tr>\n",
              "      <th>117</th>\n",
              "      <td>DDCM-118</td>\n",
              "      <td>SVLV</td>\n",
              "      <td>0</td>\n",
              "      <td>0</td>\n",
              "      <td>0</td>\n",
              "      <td>0</td>\n",
              "      <td>0</td>\n",
              "      <td>0</td>\n",
              "      <td>0</td>\n",
              "      <td>0</td>\n",
              "      <td>0</td>\n",
              "      <td>0</td>\n",
              "      <td>0</td>\n",
              "      <td>0</td>\n",
              "      <td>0</td>\n",
              "      <td>0</td>\n",
              "      <td>0</td>\n",
              "      <td>0</td>\n",
              "      <td>0</td>\n",
              "    </tr>\n",
              "    <tr>\n",
              "      <th>118</th>\n",
              "      <td>DDCM-119</td>\n",
              "      <td>SVLV</td>\n",
              "      <td>0</td>\n",
              "      <td>0</td>\n",
              "      <td>0</td>\n",
              "      <td>0</td>\n",
              "      <td>0</td>\n",
              "      <td>0</td>\n",
              "      <td>0</td>\n",
              "      <td>0</td>\n",
              "      <td>0</td>\n",
              "      <td>0</td>\n",
              "      <td>0</td>\n",
              "      <td>0</td>\n",
              "      <td>0</td>\n",
              "      <td>0</td>\n",
              "      <td>0</td>\n",
              "      <td>0</td>\n",
              "      <td>0</td>\n",
              "    </tr>\n",
              "    <tr>\n",
              "      <th>119</th>\n",
              "      <td>DDCM-120</td>\n",
              "      <td>SVLV</td>\n",
              "      <td>0</td>\n",
              "      <td>0</td>\n",
              "      <td>0</td>\n",
              "      <td>0</td>\n",
              "      <td>0</td>\n",
              "      <td>0</td>\n",
              "      <td>0</td>\n",
              "      <td>0</td>\n",
              "      <td>0</td>\n",
              "      <td>0</td>\n",
              "      <td>0</td>\n",
              "      <td>0</td>\n",
              "      <td>0</td>\n",
              "      <td>0</td>\n",
              "      <td>0</td>\n",
              "      <td>0</td>\n",
              "      <td>0</td>\n",
              "    </tr>\n",
              "  </tbody>\n",
              "</table>\n",
              "</div>"
            ],
            "text/plain": [
              "    Study Key Diagnosis  bullet  lasa2c  lasa4c  lasap4  mv  pulmvein  tdilat  \\\n",
              "115  DDCM-116      SVLV       0       0       0       0   0         0       0   \n",
              "116  DDCM-117      SVLV       0       0       0       0   0         0       0   \n",
              "117  DDCM-118      SVLV       0       0       0       0   0         0       0   \n",
              "118  DDCM-119      SVLV       0       0       0       0   0         0       0   \n",
              "119  DDCM-120      SVLV       0       0       0       0   0         0       0   \n",
              "\n",
              "     tdimed  trjet  vstraina2c  vstraina4c  vstrainap2  vstrainap3  \\\n",
              "115       0      0           0           0           0           0   \n",
              "116       0      0           0           0           0           0   \n",
              "117       0      0           0           0           0           0   \n",
              "118       0      0           0           0           0           0   \n",
              "119       0      0           0           0           0           0   \n",
              "\n",
              "     vstrainap4  vstrain2c  vstrain4c  total  \n",
              "115           0          0          0      0  \n",
              "116           0          0          0      0  \n",
              "117           0          0          0      0  \n",
              "118           0          0          0      0  \n",
              "119           0          0          0      0  "
            ]
          },
          "execution_count": 23,
          "metadata": {},
          "output_type": "execute_result"
        }
      ],
      "source": [
        "# initialize all image counts to 0\n",
        "new_columns = ['bullet', 'lasa2c', 'lasa4c', 'lasap4', 'mv', 'pulmvein', 'tdilat',\n",
        "               'tdimed', 'trjet', 'vstraina2c', 'vstraina4c', 'vstrainap2',\n",
        "               'vstrainap3', 'vstrainap4', 'vstrain2c', 'vstrain4c']\n",
        "\n",
        "for col in new_columns:\n",
        "    df[col] = 0\n",
        "\n",
        "df['total'] = 0\n",
        "\n",
        "df.tail()"
      ]
    },
    {
      "cell_type": "code",
      "execution_count": 24,
      "id": "a86fca02",
      "metadata": {
        "id": "a86fca02"
      },
      "outputs": [
        {
          "name": "stdout",
          "output_type": "stream",
          "text": [
            "86\n",
            "/Users/niksun/Desktop/BCM_TCH_Cardiomyopathy_F23/raw_data/D2K - no DICOM/DDCM-001\n"
          ]
        }
      ],
      "source": [
        "patient_folders = os.listdir(RAW_IMAGE_PATH)\n",
        "patient_folders = sorted([folder for folder in patient_folders if folder.startswith('DDCM-')])\n",
        "print(len(patient_folders)) # 86 patients\n",
        "\n",
        "folder_paths = [os.path.join(RAW_IMAGE_PATH, folder) for folder in patient_folders]\n",
        "print(folder_paths[0])"
      ]
    },
    {
      "cell_type": "code",
      "execution_count": 25,
      "id": "83029d1b",
      "metadata": {
        "id": "83029d1b"
      },
      "outputs": [],
      "source": [
        "# count if the patient has the image and each image\n",
        "for folder_path in folder_paths:\n",
        "    row_idx = folder_path[-3:]\n",
        "    row_idx = int(row_idx)\n",
        "    # print(row_idx)\n",
        "\n",
        "    df.at[row_idx-1, 'total'] = 1\n",
        "\n",
        "    files = os.listdir(folder_path)\n",
        "    files = [file[:-4] for file in files if file.lower().endswith('.jpg')]\n",
        "\n",
        "    if files != []:\n",
        "        for file in files:\n",
        "            df.at[row_idx-1, file] = 1"
      ]
    },
    {
      "cell_type": "code",
      "execution_count": 26,
      "id": "8c90f7e8",
      "metadata": {},
      "outputs": [],
      "source": [
        "df.to_csv(os.path.join(OUTPUT_PATH, 'image_count_detail.csv'), index = False)"
      ]
    },
    {
      "cell_type": "code",
      "execution_count": 27,
      "id": "1ada9869",
      "metadata": {
        "id": "1ada9869",
        "outputId": "99f1a09e-f4d8-45ae-b6f5-2a43fa89da25"
      },
      "outputs": [
        {
          "name": "stderr",
          "output_type": "stream",
          "text": [
            "/var/folders/d9/1rrzhx111k76ghvdft1_23bm0000gn/T/ipykernel_13591/3110841169.py:1: FutureWarning: The default value of numeric_only in DataFrameGroupBy.sum is deprecated. In a future version, numeric_only will default to False. Either specify numeric_only or select only columns which should be valid for the function.\n",
            "  grouped_df = df.groupby(df['Diagnosis']).sum()\n"
          ]
        },
        {
          "data": {
            "text/html": [
              "<div>\n",
              "<style scoped>\n",
              "    .dataframe tbody tr th:only-of-type {\n",
              "        vertical-align: middle;\n",
              "    }\n",
              "\n",
              "    .dataframe tbody tr th {\n",
              "        vertical-align: top;\n",
              "    }\n",
              "\n",
              "    .dataframe thead th {\n",
              "        text-align: right;\n",
              "    }\n",
              "</style>\n",
              "<table border=\"1\" class=\"dataframe\">\n",
              "  <thead>\n",
              "    <tr style=\"text-align: right;\">\n",
              "      <th></th>\n",
              "      <th>bullet</th>\n",
              "      <th>lasa2c</th>\n",
              "      <th>lasa4c</th>\n",
              "      <th>lasap4</th>\n",
              "      <th>mv</th>\n",
              "      <th>pulmvein</th>\n",
              "      <th>tdilat</th>\n",
              "      <th>tdimed</th>\n",
              "      <th>trjet</th>\n",
              "      <th>vstraina2c</th>\n",
              "      <th>vstraina4c</th>\n",
              "      <th>vstrainap2</th>\n",
              "      <th>vstrainap3</th>\n",
              "      <th>vstrainap4</th>\n",
              "      <th>vstrain2c</th>\n",
              "      <th>vstrain4c</th>\n",
              "      <th>total</th>\n",
              "    </tr>\n",
              "    <tr>\n",
              "      <th>Diagnosis</th>\n",
              "      <th></th>\n",
              "      <th></th>\n",
              "      <th></th>\n",
              "      <th></th>\n",
              "      <th></th>\n",
              "      <th></th>\n",
              "      <th></th>\n",
              "      <th></th>\n",
              "      <th></th>\n",
              "      <th></th>\n",
              "      <th></th>\n",
              "      <th></th>\n",
              "      <th></th>\n",
              "      <th></th>\n",
              "      <th></th>\n",
              "      <th></th>\n",
              "      <th></th>\n",
              "    </tr>\n",
              "  </thead>\n",
              "  <tbody>\n",
              "    <tr>\n",
              "      <th>Control</th>\n",
              "      <td>25</td>\n",
              "      <td>29</td>\n",
              "      <td>28</td>\n",
              "      <td>1</td>\n",
              "      <td>28</td>\n",
              "      <td>29</td>\n",
              "      <td>27</td>\n",
              "      <td>27</td>\n",
              "      <td>29</td>\n",
              "      <td>3</td>\n",
              "      <td>3</td>\n",
              "      <td>0</td>\n",
              "      <td>0</td>\n",
              "      <td>1</td>\n",
              "      <td>0</td>\n",
              "      <td>0</td>\n",
              "      <td>29</td>\n",
              "    </tr>\n",
              "    <tr>\n",
              "      <th>HCM</th>\n",
              "      <td>28</td>\n",
              "      <td>30</td>\n",
              "      <td>32</td>\n",
              "      <td>0</td>\n",
              "      <td>32</td>\n",
              "      <td>20</td>\n",
              "      <td>25</td>\n",
              "      <td>25</td>\n",
              "      <td>31</td>\n",
              "      <td>1</td>\n",
              "      <td>2</td>\n",
              "      <td>1</td>\n",
              "      <td>1</td>\n",
              "      <td>1</td>\n",
              "      <td>1</td>\n",
              "      <td>1</td>\n",
              "      <td>32</td>\n",
              "    </tr>\n",
              "    <tr>\n",
              "      <th>SVLV</th>\n",
              "      <td>0</td>\n",
              "      <td>3</td>\n",
              "      <td>11</td>\n",
              "      <td>0</td>\n",
              "      <td>11</td>\n",
              "      <td>9</td>\n",
              "      <td>3</td>\n",
              "      <td>3</td>\n",
              "      <td>0</td>\n",
              "      <td>3</td>\n",
              "      <td>12</td>\n",
              "      <td>0</td>\n",
              "      <td>0</td>\n",
              "      <td>0</td>\n",
              "      <td>0</td>\n",
              "      <td>0</td>\n",
              "      <td>12</td>\n",
              "    </tr>\n",
              "    <tr>\n",
              "      <th>SVRV</th>\n",
              "      <td>0</td>\n",
              "      <td>2</td>\n",
              "      <td>12</td>\n",
              "      <td>0</td>\n",
              "      <td>13</td>\n",
              "      <td>11</td>\n",
              "      <td>0</td>\n",
              "      <td>0</td>\n",
              "      <td>0</td>\n",
              "      <td>3</td>\n",
              "      <td>13</td>\n",
              "      <td>0</td>\n",
              "      <td>0</td>\n",
              "      <td>0</td>\n",
              "      <td>0</td>\n",
              "      <td>0</td>\n",
              "      <td>13</td>\n",
              "    </tr>\n",
              "  </tbody>\n",
              "</table>\n",
              "</div>"
            ],
            "text/plain": [
              "           bullet  lasa2c  lasa4c  lasap4  mv  pulmvein  tdilat  tdimed  \\\n",
              "Diagnosis                                                                 \n",
              "Control        25      29      28       1  28        29      27      27   \n",
              "HCM            28      30      32       0  32        20      25      25   \n",
              "SVLV            0       3      11       0  11         9       3       3   \n",
              "SVRV            0       2      12       0  13        11       0       0   \n",
              "\n",
              "           trjet  vstraina2c  vstraina4c  vstrainap2  vstrainap3  vstrainap4  \\\n",
              "Diagnosis                                                                      \n",
              "Control       29           3           3           0           0           1   \n",
              "HCM           31           1           2           1           1           1   \n",
              "SVLV           0           3          12           0           0           0   \n",
              "SVRV           0           3          13           0           0           0   \n",
              "\n",
              "           vstrain2c  vstrain4c  total  \n",
              "Diagnosis                               \n",
              "Control            0          0     29  \n",
              "HCM                1          1     32  \n",
              "SVLV               0          0     12  \n",
              "SVRV               0          0     13  "
            ]
          },
          "execution_count": 27,
          "metadata": {},
          "output_type": "execute_result"
        }
      ],
      "source": [
        "grouped_df = df.groupby(df['Diagnosis']).sum()\n",
        "grouped_df.head()"
      ]
    },
    {
      "cell_type": "code",
      "execution_count": 28,
      "id": "24b0259e",
      "metadata": {
        "id": "24b0259e"
      },
      "outputs": [],
      "source": [
        "grouped_df.to_csv(os.path.join(OUTPUT_PATH, 'image_count_group.csv'), index = True)"
      ]
    },
    {
      "cell_type": "markdown",
      "id": "351fa8b3",
      "metadata": {
        "id": "351fa8b3"
      },
      "source": [
        "## Part 2: Standardize Image Names and Count Again\n",
        "\n",
        "**need further clean**\n",
        "- comments\n",
        "- check `cardio_module > ImageTypes` for consistent image names"
      ]
    },
    {
      "cell_type": "code",
      "execution_count": 28,
      "id": "5e4cb26d",
      "metadata": {
        "id": "5e4cb26d"
      },
      "outputs": [],
      "source": [
        "# Create a new df to contain the cleaned data\n",
        "final_columns = ['Study Key', 'Diagnosis', 'lasa2c', 'lasa4c', 'mv', 'pulmvein', 'tdilat',\n",
        "               'tdimed', 'trjet', 'vstraina2c', 'vstraina4c', 'vstrainap3','total']\n",
        "final_df = df.loc[:, final_columns]\n",
        "\n",
        "# change feature values to clean the image type namings\n",
        "# “lasa*c” and “lasap*” represent the same image type if the number that replaces\n",
        "# the asterisk is the same\n",
        "\n",
        "final_df['lasa4c'] = df['lasa4c'] + df['lasap4']\n",
        "\n",
        "# “vstraina*c,” “vstrainap*,” and “vstrain*c” represent the same image type if the\n",
        "# number that replaces the asterisk is the same\n",
        "# Plus, a “bullet” image is a summary of vstraina2c/3c/4c images.\n",
        "final_df['vstraina2c'] = df['vstraina2c'] + df['bullet'] + df['vstrainap2'] + df['vstrain2c']\n",
        "final_df['vstraina4c'] = df['vstraina4c'] + df['bullet'] + df['vstrainap4'] + df['vstrain4c']\n",
        "final_df['vstrainap3'] = df['vstrainap3'] + df['bullet']\n",
        "\n",
        "# rename column\n",
        "final_df = final_df.rename(columns={'vstrainap3': 'vstraina3c'})"
      ]
    },
    {
      "cell_type": "code",
      "execution_count": 29,
      "id": "2ced7a10",
      "metadata": {
        "id": "2ced7a10"
      },
      "outputs": [],
      "source": [
        "# drop the SV classes\n",
        "final_df = final_df[final_df['Diagnosis'] != \"SVLV\"]\n",
        "final_df = final_df[final_df['Diagnosis'] != \"SVRV\"]"
      ]
    },
    {
      "cell_type": "code",
      "execution_count": 30,
      "id": "0e0349a2",
      "metadata": {
        "id": "0e0349a2"
      },
      "outputs": [],
      "source": [
        "# Group by patients' Diagnosis, and sum the image name columns for each\n",
        "# Diagnosis group\n",
        "\n",
        "# final_grouped = final_df.groupby(final_df['Diagnosis']).sum()\n",
        "# print(final_grouped)"
      ]
    },
    {
      "cell_type": "code",
      "execution_count": 31,
      "id": "14f7993f",
      "metadata": {
        "id": "14f7993f"
      },
      "outputs": [],
      "source": [
        "# drop patients who have any missing data among the current image types\n",
        "# but save those patients in another.\n",
        "partial_data_df = final_df[(final_df == 0).any(axis=1)]\n",
        "partial_data_df = partial_data_df[(partial_data_df == 1).any(axis=1)]\n",
        "\n",
        "final_df = final_df[(final_df != 0).all(axis=1)]"
      ]
    },
    {
      "cell_type": "code",
      "execution_count": 32,
      "id": "d94529a6",
      "metadata": {
        "id": "d94529a6",
        "outputId": "e69e8962-6d26-456b-aacc-54cd2e008c57"
      },
      "outputs": [
        {
          "name": "stdout",
          "output_type": "stream",
          "text": [
            "           lasa2c  lasa4c  mv  pulmvein  tdilat  tdimed  trjet  vstraina2c  \\\n",
            "Diagnosis                                                                    \n",
            "Control        23      23  23        23      23      23     23          23   \n",
            "HCM            13      13  13        13      13      13     13          13   \n",
            "\n",
            "           vstraina4c  vstraina3c  total  \n",
            "Diagnosis                                 \n",
            "Control            23          23     23  \n",
            "HCM                13          13     13  \n"
          ]
        },
        {
          "name": "stderr",
          "output_type": "stream",
          "text": [
            "/var/folders/d9/1rrzhx111k76ghvdft1_23bm0000gn/T/ipykernel_13130/3133699258.py:3: FutureWarning: The default value of numeric_only in DataFrameGroupBy.sum is deprecated. In a future version, numeric_only will default to False. Either specify numeric_only or select only columns which should be valid for the function.\n",
            "  final_grouped = final_df.groupby(final_df['Diagnosis']).sum()\n"
          ]
        }
      ],
      "source": [
        "# Group by patients' Diagnosis, and sum the image name columns for each\n",
        "# Diagnosis group\n",
        "final_grouped = final_df.groupby(final_df['Diagnosis']).sum()\n",
        "\n",
        "print(final_grouped)"
      ]
    },
    {
      "cell_type": "code",
      "execution_count": 34,
      "id": "0528da76",
      "metadata": {
        "id": "0528da76"
      },
      "outputs": [],
      "source": [
        "final_grouped.to_csv(os.path.join(OUTPUT_PATH, 'image_count_group_clean.csv'), index = True)"
      ]
    }
  ],
  "metadata": {
    "colab": {
      "provenance": []
    },
    "kernelspec": {
      "display_name": "Python 3 (ipykernel)",
      "language": "python",
      "name": "python3"
    },
    "language_info": {
      "codemirror_mode": {
        "name": "ipython",
        "version": 3
      },
      "file_extension": ".py",
      "mimetype": "text/x-python",
      "name": "python",
      "nbconvert_exporter": "python",
      "pygments_lexer": "ipython3",
      "version": "3.10.10"
    }
  },
  "nbformat": 4,
  "nbformat_minor": 5
}
